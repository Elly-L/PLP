# CORD-19 Data Analysis and Exploration

**Student Project – Data Science Workflow**

---

## Part 1: Data Loading and Basic Exploration
```python
import pandas as pd

df = pd.read_csv("data/metadata.csv")

df.head()
df.shape
df.info()
df.isnull().sum().head(10)
df.describe()
